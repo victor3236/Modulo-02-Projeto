{
  "nbformat": 4,
  "nbformat_minor": 0,
  "metadata": {
    "colab": {
      "provenance": []
    },
    "kernelspec": {
      "name": "python3",
      "display_name": "Python 3"
    },
    "language_info": {
      "name": "python"
    }
  },
  "cells": [
    {
      "cell_type": "code",
      "execution_count": null,
      "metadata": {
        "colab": {
          "base_uri": "https://localhost:8080/"
        },
        "id": "UlEbzAUwpc-6",
        "outputId": "cab755d2-8f4a-4b49-c6f6-9cbc5a5893fd"
      },
      "outputs": [
        {
          "output_type": "stream",
          "name": "stdout",
          "text": [
            "=> Digite o nome do primeiro jogador:Victor\n",
            "\n",
            "=> Digite o nome do segundo jogador:Vinicius\n",
            "\n",
            "// Quem escolhe primeiro, Victor ou Vinicius?\n",
            "=> Digite 1 para escolher Victor ou 2 para escolher Vinicius2\n",
            "\n",
            "// Digite 0 para escolher PAR ou 1 para escolher ÌMPAR\n",
            "=> Vinicius, voce quer par ou impar?1\n",
            "\n",
            "// Vinicius, você escolheu ímpar e Victor ficou com par\n",
            "=> Vinicius, escolha um número5\n",
            "=> Victor, escolha um número7\n",
            "\n",
            "// Victor venceu!\n"
          ]
        }
      ],
      "source": [
        "jogador1 = input('=> Digite o nome do primeiro jogador:')\n",
        "print()\n",
        "jogador2 = input('=> Digite o nome do segundo jogador:')\n",
        "\n",
        "print()\n",
        "\n",
        "print(f'// Quem escolhe primeiro, {jogador1} ou {jogador2}?')\n",
        "primeiro_jogador = input(f'=> Digite 1 para escolher {jogador1} ou 2 para escolher {jogador2}')\n",
        "segundo_jogador = None\n",
        "\n",
        "if primeiro_jogador == '1':\n",
        "  primeiro_jogador = jogador1\n",
        "  segundo_jogador = jogador2\n",
        "elif primeiro_jogador == '2':\n",
        "  primeiro_jogador = jogador2\n",
        "  segundo_jogador = jogador1\n",
        "\n",
        "print()\n",
        "\n",
        "print('// Digite 0 para escolher PAR ou 1 para escolher ÌMPAR')\n",
        "escolha = input(f'=> {primeiro_jogador}, voce quer par ou impar?')\n",
        "escolha2 = None\n",
        "\n",
        "if escolha == 'impar' or escolha == 'ímpar' or escolha == '1':\n",
        "  escolha = 'ímpar'\n",
        "  escolha2 = 'par'\n",
        "elif escolha == 'par' or escolha == '0':\n",
        "   escolha = 'par'\n",
        "   escolha2 = 'ímpar'\n",
        "\n",
        "print()\n",
        "\n",
        "print(f'// {primeiro_jogador}, você escolheu {escolha} e {segundo_jogador} ficou com {escolha2}' )\n",
        "\n",
        "numero1 = int(input(f'=> {primeiro_jogador}, escolha um número'))\n",
        "numero2 = int(input(f'=> {segundo_jogador}, escolha um número'))\n",
        "\n",
        "soma = numero1 + numero2\n",
        "\n",
        "if soma % 2 == 0:\n",
        "  vencedor = 'par'\n",
        "else:\n",
        "  vencedor = 'ímpar'\n",
        "\n",
        "print()\n",
        "\n",
        "if vencedor == escolha:\n",
        "  print(f'// {primeiro_jogador} venceu!')\n",
        "else:\n",
        "  print(f'// {segundo_jogador} venceu!')"
      ]
    }
  ]
}